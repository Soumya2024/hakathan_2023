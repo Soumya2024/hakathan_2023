{
 "cells": [
  {
   "cell_type": "code",
   "execution_count": 1,
   "metadata": {},
   "outputs": [],
   "source": [
    "import os\n",
    "import pandas as pd\n",
    "import matplotlib.pyplot as plt"
   ]
  },
  {
   "cell_type": "code",
   "execution_count": 7,
   "metadata": {},
   "outputs": [
    {
     "name": "stdout",
     "output_type": "stream",
     "text": [
      "0    3131\n",
      "5     262\n",
      "4     142\n",
      "1      81\n",
      "3      40\n",
      "2      32\n",
      "Name: giai_tri, dtype: int64\n",
      "0    2933\n",
      "5     329\n",
      "4     201\n",
      "2      90\n",
      "3      77\n",
      "1      58\n",
      "Name: luu_tru, dtype: int64\n",
      "0    3389\n",
      "5     151\n",
      "4      53\n",
      "1      36\n",
      "3      32\n",
      "2      27\n",
      "Name: nha_hang, dtype: int64\n",
      "0    2153\n",
      "5     802\n",
      "4     326\n",
      "3     166\n",
      "2     133\n",
      "1     108\n",
      "Name: an_uong, dtype: int64\n",
      "0    2920\n",
      "5     300\n",
      "4     232\n",
      "3      83\n",
      "2      80\n",
      "1      73\n",
      "Name: di_chuyen, dtype: int64\n",
      "0    3374\n",
      "5     116\n",
      "4      74\n",
      "3      50\n",
      "2      41\n",
      "1      33\n",
      "Name: mua_sam, dtype: int64\n"
     ]
    }
   ],
   "source": [
    "datasrc_raw = 'data_final_problem2.csv'\n",
    "df = pd.read_csv(datasrc_raw)\n",
    "for key in df.keys():\n",
    "    if key.lower() == \"review\":\n",
    "        continue\n",
    "    print(df[key].value_counts())"
   ]
  },
  {
   "cell_type": "code",
   "execution_count": 4,
   "metadata": {},
   "outputs": [],
   "source": [
    "import pandas as pd\n",
    "from collections import Counter\n",
    "\n",
    "data = pd.read_csv(\"../QuiNhonAI/data/train_processed.csv\")\n",
    "label = Counter(data['label'])"
   ]
  },
  {
   "cell_type": "code",
   "execution_count": 6,
   "metadata": {},
   "outputs": [
    {
     "name": "stdout",
     "output_type": "stream",
     "text": [
      "19914\n"
     ]
    }
   ],
   "source": [
    "total = sum(label.values())\n",
    "print(total)"
   ]
  },
  {
   "cell_type": "code",
   "execution_count": 8,
   "metadata": {},
   "outputs": [
    {
     "name": "stdout",
     "output_type": "stream",
     "text": [
      "Counter({0: 16102, 5: 1769, 4: 926, 3: 404, 2: 360, 1: 353})\n"
     ]
    },
    {
     "data": {
      "text/plain": [
       "dict_values([16102, 1769, 353, 404, 926, 360])"
      ]
     },
     "execution_count": 8,
     "metadata": {},
     "output_type": "execute_result"
    }
   ],
   "source": [
    "print(label)\n",
    "label.values()"
   ]
  },
  {
   "cell_type": "code",
   "execution_count": 11,
   "metadata": {},
   "outputs": [],
   "source": [
    "sort_label = sorted(label.items(),key = lambda i: i[0])"
   ]
  },
  {
   "cell_type": "code",
   "execution_count": 12,
   "metadata": {},
   "outputs": [],
   "source": [
    "import numpy as np\n",
    "weight = [np.log(total/x[1]) for x in sort_label]"
   ]
  },
  {
   "cell_type": "code",
   "execution_count": 13,
   "metadata": {},
   "outputs": [
    {
     "data": {
      "text/plain": [
       "[0.21247951408810348,\n",
       " 4.032710224014733,\n",
       " 4.013074249497874,\n",
       " 3.8977634029868797,\n",
       " 3.0683040463018503,\n",
       " 2.4210085867882443]"
      ]
     },
     "execution_count": 13,
     "metadata": {},
     "output_type": "execute_result"
    }
   ],
   "source": [
    "weight"
   ]
  },
  {
   "cell_type": "code",
   "execution_count": 16,
   "metadata": {},
   "outputs": [
    {
     "data": {
      "text/plain": [
       "[0.21247951408810348, 1.653269016173937]"
      ]
     },
     "execution_count": 16,
     "metadata": {},
     "output_type": "execute_result"
    }
   ],
   "source": [
    "[np.log(total/(data['label'] == 0).sum()), np.log(total/(data['label'] > 0).sum())]"
   ]
  },
  {
   "cell_type": "code",
   "execution_count": null,
   "metadata": {},
   "outputs": [],
   "source": []
  }
 ],
 "metadata": {
  "kernelspec": {
   "display_name": "Python 3.10.4 ('memorization_nlp')",
   "language": "python",
   "name": "python3"
  },
  "language_info": {
   "codemirror_mode": {
    "name": "ipython",
    "version": 3
   },
   "file_extension": ".py",
   "mimetype": "text/x-python",
   "name": "python",
   "nbconvert_exporter": "python",
   "pygments_lexer": "ipython3",
   "version": "3.9.12"
  },
  "orig_nbformat": 4,
  "vscode": {
   "interpreter": {
    "hash": "53e9cce6da67b79b1dfd3081c2f128a8b3dc3d0f74b4e271ef98d38e05e3167b"
   }
  }
 },
 "nbformat": 4,
 "nbformat_minor": 2
}
